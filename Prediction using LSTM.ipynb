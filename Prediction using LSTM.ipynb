{
 "cells": [
  {
   "cell_type": "code",
   "execution_count": 1,
   "metadata": {},
   "outputs": [
    {
     "name": "stderr",
     "output_type": "stream",
     "text": [
      "Using TensorFlow backend.\n"
     ]
    }
   ],
   "source": [
    "import numpy as np\n",
    "import pandas as pd\n",
    "import matplotlib.pyplot as plt\n",
    "from keras.models import Sequential\n",
    "from keras.layers import LSTM\n",
    "from keras.layers import Dense\n",
    "from keras.layers import Dropout\n",
    "import warnings\n",
    "warnings.filterwarnings(\"ignore\")\n",
    "%matplotlib inline"
   ]
  },
  {
   "cell_type": "markdown",
   "metadata": {},
   "source": [
    "## Data Prepration for India\n",
    "Data is imported from John Hopkins GitHub Repo and can be used for more analysis"
   ]
  },
  {
   "cell_type": "code",
   "execution_count": 2,
   "metadata": {},
   "outputs": [
    {
     "data": {
      "text/plain": [
       "Country               0\n",
       "Province/State    22050\n",
       "Lat                   0\n",
       "Long                  0\n",
       "Date                  0\n",
       "Confirmed             0\n",
       "Recoveries            0\n",
       "Deaths                0\n",
       "dtype: int64"
      ]
     },
     "execution_count": 2,
     "metadata": {},
     "output_type": "execute_result"
    },
    {
     "name": "stdout",
     "output_type": "stream",
     "text": [
      "     index  Confirmed\n",
      "0        1        1.0\n",
      "1        2        1.0\n",
      "2        3        1.0\n",
      "3        4        2.0\n",
      "4        5        3.0\n",
      "..     ...        ...\n",
      "113    114   124794.0\n",
      "114    115   131423.0\n",
      "115    116   138536.0\n",
      "116    117   144950.0\n",
      "117    118   150793.0\n",
      "\n",
      "[118 rows x 2 columns]\n"
     ]
    }
   ],
   "source": [
    "confirmed_df = pd.read_csv('https://raw.githubusercontent.com/CSSEGISandData/COVID-19/master/csse_covid_19_data/csse_covid_19_time_series/time_series_covid19_confirmed_global.csv')\n",
    "deaths_df = pd.read_csv('https://raw.githubusercontent.com/CSSEGISandData/COVID-19/master/csse_covid_19_data/csse_covid_19_time_series/time_series_covid19_deaths_global.csv')\n",
    "recoveries_df = pd.read_csv('https://raw.githubusercontent.com/CSSEGISandData/COVID-19/master/csse_covid_19_data/csse_covid_19_time_series/time_series_covid19_recovered_global.csv')\n",
    "\n",
    "na_columns = (confirmed_df.isna().sum() / confirmed_df.shape[0]) > 0.99\n",
    "na_columns = na_columns[na_columns]\n",
    "\n",
    "confirmed_df = confirmed_df.drop(na_columns.index, axis=1)\n",
    "deaths_df = deaths_df.drop(na_columns.index, axis=1)\n",
    "recoveries_df = recoveries_df.drop(na_columns.index, axis=1)\n",
    "\n",
    "## Tidy up the data\n",
    "confirmed_df = confirmed_df.melt(id_vars=['Country/Region', 'Province/State', 'Lat', 'Long'], var_name='date', value_name='confirmed')\n",
    "deaths_df = deaths_df.melt(id_vars=['Country/Region', 'Province/State', 'Lat', 'Long'], var_name='date', value_name='deaths')\n",
    "recoveries_df = recoveries_df.melt(id_vars=['Country/Region', 'Province/State', 'Lat', 'Long'], var_name='date', value_name='recoveries')\n",
    "\n",
    "confirmed_df['date'] = pd.to_datetime(confirmed_df['date'])\n",
    "deaths_df['date'] = pd.to_datetime(deaths_df['date'])\n",
    "recoveries_df['date'] = pd.to_datetime(recoveries_df['date'])\n",
    "\n",
    "full_df = confirmed_df.merge(recoveries_df).merge(deaths_df)\n",
    "full_df = full_df.rename(columns={'Country/Region': 'Country', 'date': 'Date', 'confirmed': \"Confirmed\", \"recoveries\": \"Recoveries\", \"deaths\": \"Deaths\"})\n",
    "# Check null values\n",
    "full_df.isnull().sum()\n",
    "\n",
    "df_india=full_df[full_df['Country']=='India']\n",
    "\n",
    "world_df = full_df.groupby(['Date']).agg({'Confirmed': ['sum'], 'Recoveries': ['sum'], 'Deaths': ['sum']}).reset_index()\n",
    "world_df.columns = world_df.columns.get_level_values(0)\n",
    "\n",
    "def add_rates(df):\n",
    "    df['Confirmed Change'] = df['Confirmed'].diff().shift(-1)\n",
    " \n",
    "    df['Mortality Rate'] = df['Deaths'] / df['Confirmed']\n",
    "    df['Recovery Rate'] = df['Recoveries'] / df['Confirmed']\n",
    "    df['Growth Rate'] = df['Confirmed Change'] / df['Confirmed']\n",
    "    df['Growth Rate Change'] = df['Growth Rate'].diff().shift(-1)\n",
    "    df['Growth Rate Accel'] = df['Growth Rate Change'] / df['Growth Rate']\n",
    "    return df\n",
    "\n",
    "df_india=add_rates(df_india)\n",
    "df=pd.DataFrame(df_india['Confirmed'])\n",
    "df = df.replace(0, np.nan)\n",
    "df.dropna(axis=0,inplace=True)\n",
    "df.reset_index(inplace=True)\n",
    "#df.drop('index',axis=1,inplace=True)\n",
    "\n",
    "df['index']=pd.Series(range(1,len(df)+1))\n",
    "print(df)"
   ]
  },
  {
   "cell_type": "code",
   "execution_count": 3,
   "metadata": {},
   "outputs": [],
   "source": [
    "df_india=add_rates(df_india)"
   ]
  },
  {
   "cell_type": "code",
   "execution_count": 4,
   "metadata": {},
   "outputs": [],
   "source": [
    "df=pd.DataFrame(df_india['Confirmed'])"
   ]
  },
  {
   "cell_type": "code",
   "execution_count": 5,
   "metadata": {},
   "outputs": [],
   "source": [
    "df = df.replace(0, np.nan)\n",
    "df.dropna(axis=0,inplace=True)\n",
    "df.reset_index(inplace=True)\n",
    "df.drop('index',axis=1,inplace=True)"
   ]
  },
  {
   "cell_type": "code",
   "execution_count": 6,
   "metadata": {},
   "outputs": [],
   "source": [
    "#df['index']=pd.Series(range(1,len(df)+1))"
   ]
  },
  {
   "cell_type": "markdown",
   "metadata": {},
   "source": [
    "## Data Prepration to feed LSTM Model"
   ]
  },
  {
   "cell_type": "code",
   "execution_count": 7,
   "metadata": {},
   "outputs": [],
   "source": [
    "data=df.values"
   ]
  },
  {
   "cell_type": "code",
   "execution_count": 8,
   "metadata": {},
   "outputs": [],
   "source": [
    "np.set_printoptions(suppress=True)"
   ]
  },
  {
   "cell_type": "code",
   "execution_count": 9,
   "metadata": {},
   "outputs": [],
   "source": [
    "train=data[0:100]\n",
    "test=data[100:]"
   ]
  },
  {
   "cell_type": "code",
   "execution_count": 10,
   "metadata": {},
   "outputs": [],
   "source": [
    "from sklearn.preprocessing import MinMaxScaler\n",
    "sc = MinMaxScaler()\n",
    "Train = sc.fit_transform(train)"
   ]
  },
  {
   "cell_type": "markdown",
   "metadata": {},
   "source": [
    "Here for ever 5 data point model will learn to predict next value and in this way data is prepared here"
   ]
  },
  {
   "cell_type": "code",
   "execution_count": 11,
   "metadata": {},
   "outputs": [
    {
     "name": "stdout",
     "output_type": "stream",
     "text": [
      "(95, 5)\n",
      "(95,)\n"
     ]
    }
   ],
   "source": [
    "X_Train = []\n",
    "Y_Train = []\n",
    "\n",
    "for i in range(5, Train.shape[0]):\n",
    "    \n",
    "    X_Train.append(Train[i-5:i,0])\n",
    "    \n",
    "    Y_Train.append(Train[i,0])\n",
    "\n",
    "# Convert into Numpy Array\n",
    "X_Train = np.array(X_Train)\n",
    "Y_Train = np.array(Y_Train)\n",
    "\n",
    "print(X_Train.shape)\n",
    "print(Y_Train.shape)"
   ]
  },
  {
   "cell_type": "code",
   "execution_count": 12,
   "metadata": {},
   "outputs": [],
   "source": [
    "X_Train = np.reshape(X_Train, newshape=(X_Train.shape[0], X_Train.shape[1], 1))"
   ]
  },
  {
   "cell_type": "markdown",
   "metadata": {},
   "source": [
    "## Stacked LSTM Model"
   ]
  },
  {
   "cell_type": "code",
   "execution_count": 13,
   "metadata": {},
   "outputs": [],
   "source": [
    "regressor = Sequential()\n",
    "\n",
    "# Adding the first LSTM layer and some Dropout regularisation\n",
    "regressor.add(LSTM(units = 50, return_sequences = True, input_shape = (X_Train.shape[1], 1)))\n",
    "regressor.add(Dropout(0.2))\n",
    "\n",
    "# Adding a second LSTM layer and some Dropout regularisation\n",
    "regressor.add(LSTM(units = 50, return_sequences = True))\n",
    "regressor.add(Dropout(0.2))\n",
    "\n",
    "# Adding a third LSTM layer and some Dropout regularisation\n",
    "regressor.add(LSTM(units = 50, return_sequences = True))\n",
    "regressor.add(Dropout(0.2))\n",
    "\n",
    "# Adding a fourth LSTM layer and some Dropout regularisation\n",
    "regressor.add(LSTM(units = 50))\n",
    "regressor.add(Dropout(0.2))\n",
    "\n",
    "# Adding the output layer\n",
    "regressor.add(Dense(units = 1))\n",
    "\n",
    "# Compiling the RNN\n",
    "regressor.compile(optimizer = 'adam', loss = 'mean_squared_error')"
   ]
  },
  {
   "cell_type": "code",
   "execution_count": 14,
   "metadata": {},
   "outputs": [
    {
     "name": "stdout",
     "output_type": "stream",
     "text": [
      "Model: \"sequential_1\"\n",
      "_________________________________________________________________\n",
      "Layer (type)                 Output Shape              Param #   \n",
      "=================================================================\n",
      "lstm_1 (LSTM)                (None, 5, 50)             10400     \n",
      "_________________________________________________________________\n",
      "dropout_1 (Dropout)          (None, 5, 50)             0         \n",
      "_________________________________________________________________\n",
      "lstm_2 (LSTM)                (None, 5, 50)             20200     \n",
      "_________________________________________________________________\n",
      "dropout_2 (Dropout)          (None, 5, 50)             0         \n",
      "_________________________________________________________________\n",
      "lstm_3 (LSTM)                (None, 5, 50)             20200     \n",
      "_________________________________________________________________\n",
      "dropout_3 (Dropout)          (None, 5, 50)             0         \n",
      "_________________________________________________________________\n",
      "lstm_4 (LSTM)                (None, 50)                20200     \n",
      "_________________________________________________________________\n",
      "dropout_4 (Dropout)          (None, 50)                0         \n",
      "_________________________________________________________________\n",
      "dense_1 (Dense)              (None, 1)                 51        \n",
      "=================================================================\n",
      "Total params: 71,051\n",
      "Trainable params: 71,051\n",
      "Non-trainable params: 0\n",
      "_________________________________________________________________\n"
     ]
    }
   ],
   "source": [
    "regressor.summary()"
   ]
  },
  {
   "cell_type": "code",
   "execution_count": 15,
   "metadata": {},
   "outputs": [
    {
     "name": "stdout",
     "output_type": "stream",
     "text": [
      "Epoch 1/30\n",
      "95/95 [==============================] - 2s 19ms/step - loss: 0.0765\n",
      "Epoch 2/30\n",
      "95/95 [==============================] - 0s 1ms/step - loss: 0.0610\n",
      "Epoch 3/30\n",
      "95/95 [==============================] - 0s 968us/step - loss: 0.0547\n",
      "Epoch 4/30\n",
      "95/95 [==============================] - 0s 1ms/step - loss: 0.0445\n",
      "Epoch 5/30\n",
      "95/95 [==============================] - 0s 1ms/step - loss: 0.0303\n",
      "Epoch 6/30\n",
      "95/95 [==============================] - 0s 1ms/step - loss: 0.0066\n",
      "Epoch 7/30\n",
      "95/95 [==============================] - 0s 1ms/step - loss: 0.0065\n",
      "Epoch 8/30\n",
      "95/95 [==============================] - 0s 1ms/step - loss: 0.0043\n",
      "Epoch 9/30\n",
      "95/95 [==============================] - 0s 1ms/step - loss: 0.0026\n",
      "Epoch 10/30\n",
      "95/95 [==============================] - 0s 1ms/step - loss: 0.0031\n",
      "Epoch 11/30\n",
      "95/95 [==============================] - 0s 999us/step - loss: 0.0016\n",
      "Epoch 12/30\n",
      "95/95 [==============================] - 0s 1ms/step - loss: 0.0019\n",
      "Epoch 13/30\n",
      "95/95 [==============================] - 0s 1ms/step - loss: 0.0014\n",
      "Epoch 14/30\n",
      "95/95 [==============================] - 0s 1ms/step - loss: 0.0024\n",
      "Epoch 15/30\n",
      "95/95 [==============================] - 0s 1ms/step - loss: 0.0023\n",
      "Epoch 16/30\n",
      "95/95 [==============================] - 0s 1ms/step - loss: 0.0018\n",
      "Epoch 17/30\n",
      "95/95 [==============================] - 0s 1ms/step - loss: 0.0011\n",
      "Epoch 18/30\n",
      "95/95 [==============================] - 0s 1ms/step - loss: 0.0026\n",
      "Epoch 19/30\n",
      "95/95 [==============================] - 0s 1ms/step - loss: 0.0019\n",
      "Epoch 20/30\n",
      "95/95 [==============================] - 0s 1ms/step - loss: 0.0024\n",
      "Epoch 21/30\n",
      "95/95 [==============================] - 0s 1ms/step - loss: 0.0014\n",
      "Epoch 22/30\n",
      "95/95 [==============================] - 0s 1ms/step - loss: 0.0015\n",
      "Epoch 23/30\n",
      "95/95 [==============================] - 0s 1ms/step - loss: 7.5323e-04\n",
      "Epoch 24/30\n",
      "95/95 [==============================] - 0s 1ms/step - loss: 7.5048e-04\n",
      "Epoch 25/30\n",
      "95/95 [==============================] - 0s 1ms/step - loss: 0.0010\n",
      "Epoch 26/30\n",
      "95/95 [==============================] - 0s 1ms/step - loss: 0.0018\n",
      "Epoch 27/30\n",
      "95/95 [==============================] - 0s 1ms/step - loss: 0.0018\n",
      "Epoch 28/30\n",
      "95/95 [==============================] - 0s 1ms/step - loss: 0.0013\n",
      "Epoch 29/30\n",
      "95/95 [==============================] - 0s 1ms/step - loss: 0.0032\n",
      "Epoch 30/30\n",
      "95/95 [==============================] - 0s 1ms/step - loss: 0.0018\n"
     ]
    },
    {
     "data": {
      "text/plain": [
       "<keras.callbacks.callbacks.History at 0x250694a0688>"
      ]
     },
     "execution_count": 15,
     "metadata": {},
     "output_type": "execute_result"
    }
   ],
   "source": [
    "regressor.fit(X_Train, Y_Train, epochs = 30, batch_size = 16)"
   ]
  },
  {
   "cell_type": "code",
   "execution_count": 16,
   "metadata": {},
   "outputs": [],
   "source": [
    "hist=regressor.history"
   ]
  },
  {
   "cell_type": "code",
   "execution_count": 17,
   "metadata": {},
   "outputs": [
    {
     "data": {
      "text/plain": [
       "[<matplotlib.lines.Line2D at 0x2507141aac8>]"
      ]
     },
     "execution_count": 17,
     "metadata": {},
     "output_type": "execute_result"
    },
    {
     "data": {
      "text/plain": [
       "Text(0, 0.5, 'Loss')"
      ]
     },
     "execution_count": 17,
     "metadata": {},
     "output_type": "execute_result"
    },
    {
     "data": {
      "text/plain": [
       "Text(0.5, 0, 'epoch')"
      ]
     },
     "execution_count": 17,
     "metadata": {},
     "output_type": "execute_result"
    },
    {
     "data": {
      "text/plain": [
       "<matplotlib.legend.Legend at 0x250713f01c8>"
      ]
     },
     "execution_count": 17,
     "metadata": {},
     "output_type": "execute_result"
    },
    {
     "data": {
      "image/png": "[encoded data removed]",
      "text/plain": [
       "<Figure size 432x288 with 1 Axes>"
      ]
     },
     "metadata": {
      "needs_background": "light"
     },
     "output_type": "display_data"
    }
   ],
   "source": [
    "plt.plot(hist.history['loss'])\n",
    "plt.ylabel('Loss')\n",
    "plt.xlabel('epoch')\n",
    "plt.legend(['train', 'val'], loc='upper left')\n",
    "plt.show()"
   ]
  },
  {
   "cell_type": "code",
   "execution_count": 18,
   "metadata": {},
   "outputs": [],
   "source": [
    "# We need to Reshape\n",
    "test= test.reshape(-1,1)\n",
    "\n",
    "# Normalize the Dataset\n",
    "test = sc.transform(test)\n",
    "\n",
    "X_test = []\n",
    "for i in range(5,len(test)):\n",
    "    X_test.append(test[i-5:i, 0])\n",
    "    \n",
    "# Convert into Numpy Array\n",
    "X_test = np.array(X_test)\n",
    "\n",
    "# Reshape before Passing to Network\n",
    "X_test = np.reshape(X_test, (X_test.shape[0], X_test.shape[1], 1))\n",
    "\n",
    "# Pass to Model \n",
    "predicted_cases = regressor.predict(X_test)\n",
    "\n",
    "# Do inverse Transformation to get Values \n",
    "predicted_cases = sc.inverse_transform(predicted_cases)"
   ]
  },
  {
   "cell_type": "code",
   "execution_count": 20,
   "metadata": {},
   "outputs": [],
   "source": [
    "test=sc.inverse_transform(test)"
   ]
  },
  {
   "cell_type": "code",
   "execution_count": 26,
   "metadata": {},
   "outputs": [
    {
     "data": {
      "text/plain": [
       "[<matplotlib.lines.Line2D at 0x250769508c8>]"
      ]
     },
     "execution_count": 26,
     "metadata": {},
     "output_type": "execute_result"
    },
    {
     "data": {
      "text/plain": [
       "[<matplotlib.lines.Line2D at 0x25076ccd888>]"
      ]
     },
     "execution_count": 26,
     "metadata": {},
     "output_type": "execute_result"
    },
    {
     "data": {
      "text/plain": [
       "Text(0, 0.5, 'No of Cases')"
      ]
     },
     "execution_count": 26,
     "metadata": {},
     "output_type": "execute_result"
    },
    {
     "data": {
      "text/plain": [
       "Text(0.5, 0, 'No. of days after 9 May')"
      ]
     },
     "execution_count": 26,
     "metadata": {},
     "output_type": "execute_result"
    },
    {
     "data": {
      "text/plain": [
       "<matplotlib.legend.Legend at 0x2507696c308>"
      ]
     },
     "execution_count": 26,
     "metadata": {},
     "output_type": "execute_result"
    },
    {
     "data": {
      "image/png": "[encoded data removed]",
      "text/plain": [
       "<Figure size 432x288 with 1 Axes>"
      ]
     },
     "metadata": {
      "needs_background": "light"
     },
     "output_type": "display_data"
    }
   ],
   "source": [
    "plt.plot(predicted_cases,c='b')\n",
    "plt.plot(test,c='y')\n",
    "plt.ylabel('No of Cases')\n",
    "plt.xlabel('No. of days after 9 May')\n",
    "plt.legend(['Predicted', 'Actual'], loc='upper left')\n",
    "plt.grid()\n",
    "plt.show()"
   ]
  },
  {
   "cell_type": "code",
   "execution_count": null,
   "metadata": {},
   "outputs": [],
   "source": []
  },
  {
   "cell_type": "code",
   "execution_count": null,
   "metadata": {},
   "outputs": [],
   "source": []
  }
 ],
 "metadata": {
  "kernelspec": {
   "display_name": "Python 3",
   "language": "python",
   "name": "python3"
  },
  "language_info": {
   "codemirror_mode": {
    "name": "ipython",
    "version": 3
   },
   "file_extension": ".py",
   "mimetype": "text/x-python",
   "name": "python",
   "nbconvert_exporter": "python",
   "pygments_lexer": "ipython3",
   "version": "3.7.4"
  }
 },
 "nbformat": 4,
 "nbformat_minor": 2
}
